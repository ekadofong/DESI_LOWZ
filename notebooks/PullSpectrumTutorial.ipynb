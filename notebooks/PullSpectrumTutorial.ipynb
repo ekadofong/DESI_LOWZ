{
 "cells": [
  {
   "cell_type": "code",
   "execution_count": 1,
   "id": "7ea77ff8-15e5-4e12-8159-6718dd052cd7",
   "metadata": {},
   "outputs": [],
   "source": [
    "%load_ext autoreload\n",
    "%autoreload 2"
   ]
  },
  {
   "cell_type": "code",
   "execution_count": 2,
   "id": "8eee597b-27c7-432c-8b5a-efd07ec0a4a9",
   "metadata": {},
   "outputs": [],
   "source": [
    "import sys\n",
    "sys.path.append('../scripts/')"
   ]
  },
  {
   "cell_type": "code",
   "execution_count": 3,
   "id": "2887db17-0b70-4fe3-8b6f-afa1ea6f6d9f",
   "metadata": {},
   "outputs": [],
   "source": [
    "import targeting"
   ]
  },
  {
   "cell_type": "code",
   "execution_count": null,
   "id": "579b1ecc-01e0-46af-b688-fe97ca0bc58e",
   "metadata": {},
   "outputs": [
    {
     "name": "stderr",
     "output_type": "stream",
     "text": [
      "/tmp/ipykernel_51711/1706038222.py:1: DtypeWarning: Columns (25) have mixed types.Specify dtype option on import or set low_memory=False.\n",
      "  lowz_sp, lowz_ph = targeting.build_targets (filename='../local_data/targeting_catalogs/LOWZ_TARGETS_FUJI_HEALPIX.CSV')\n"
     ]
    }
   ],
   "source": [
    "lowz_sp, lowz_ph = targeting.build_targets (filename='../local_data/targeting_catalogs/LOWZ_TARGETS_FUJI_HEALPIX.CSV')"
   ]
  },
  {
   "cell_type": "code",
   "execution_count": null,
   "id": "1b723f58-944a-4b2e-ac32-edaf7e53e589",
   "metadata": {},
   "outputs": [],
   "source": []
  }
 ],
 "metadata": {
  "kernelspec": {
   "display_name": "DESI 22.5",
   "language": "python",
   "name": "desi-22.5"
  },
  "language_info": {
   "codemirror_mode": {
    "name": "ipython",
    "version": 3
   },
   "file_extension": ".py",
   "mimetype": "text/x-python",
   "name": "python",
   "nbconvert_exporter": "python",
   "pygments_lexer": "ipython3",
   "version": "3.9.7"
  }
 },
 "nbformat": 4,
 "nbformat_minor": 5
}
